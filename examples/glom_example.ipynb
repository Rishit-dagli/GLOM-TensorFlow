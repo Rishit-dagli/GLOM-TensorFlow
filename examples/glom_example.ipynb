{
  "nbformat": 4,
  "nbformat_minor": 0,
  "metadata": {
    "colab": {
      "name": "glom-example.ipynb",
      "provenance": [],
      "authorship_tag": "ABX9TyMyzrhu25eYidJRbb6spx7V",
      "include_colab_link": true
    },
    "kernelspec": {
      "name": "python3",
      "display_name": "Python 3"
    },
    "language_info": {
      "name": "python"
    }
  },
  "cells": [
    {
      "cell_type": "markdown",
      "metadata": {
        "id": "view-in-github",
        "colab_type": "text"
      },
      "source": [
        "<a href=\"https://colab.research.google.com/github/Rishit-dagli/GLOM-TensorFlow/blob/example/examples/glom_example.ipynb\" target=\"_parent\"><img src=\"https://colab.research.google.com/assets/colab-badge.svg\" alt=\"Open In Colab\"/></a>"
      ]
    },
    {
      "cell_type": "markdown",
      "metadata": {
        "id": "KULsYjWxbAya"
      },
      "source": [
        "# GLOM Example\n",
        "\n",
        "This notebook shows the the process of using the [glom-tf](https://github.com/Rishit-dagli/GLOM-TensorFlow) Python package. \n",
        "This Python package attempts to implement GLOM in TensorFlow, which allows advances made by several different groups \n",
        "transformers, neural fields, contrastive representation learning, distillation and capsules to be combined. This was \n",
        "suggested by Geoffrey Hinton in his paper \n",
        "[\"How to represent part-whole hierarchies in a neural network\"](https://arxiv.org/abs/2102.12627).\n",
        "\n",
        "If you find this useful please consider giving a ⭐ to [the repo](https://github.com/Rishit-dagli/GLOM-TensorFlow).\n"
      ]
    },
    {
      "cell_type": "markdown",
      "metadata": {
        "id": "9NsKPP3ybVMO"
      },
      "source": [
        "## A bit about GLOM\n",
        "\n",
        "The GLOM architecture is composed of a large number of columns which\n",
        "all use exactly the same weights. Each column is a stack of spatially local\n",
        "autoencoders that learn multiple levels of representation for what is happening\n",
        "in a small image patch. Each autoencoder transforms the embedding at one level\n",
        "into the embedding at an adjacent level using a multilayer bottom-up encoder\n",
        "and a multilayer top-down decoder. These levels correspond to the levels in a\n",
        "part-whole hierarchy.\n",
        "\n",
        "![](https://github.com/Rishit-dagli/GLOM-TensorFlow/blob/main/images/interactions.png?raw=true)\n",
        "<p align=\"center\">\n",
        "<small>Interactions among the 3 levels in one column</small>\n",
        "</p>\n",
        "\n",
        "An example shared by the author was as an example when show a face image, a single column might converge on embedding \n",
        "vectors representing a nostril, a nose, a face, and a person.\n",
        "\n",
        "At each discrete time and in each column separately, the embedding at a\n",
        "level is updated to be the weighted average of:\n",
        "- bottom-up neural net acting on the embedding at the level below at the previous time\n",
        "- top-down neural net acting on the embedding at the level above at the previous time\n",
        "- embedding vector at the previous time step\n",
        "- attention-weighted average of the embeddings at the same level in nearby columns at the previous time\n",
        "\n",
        "For a static image, the embeddings at a level should settle down over time to produce similar vectors.\n",
        "\n",
        "![](https://github.com/Rishit-dagli/GLOM-TensorFlow/blob/main/images/embeddings.png?raw=true)\n",
        "<p align=\"center\">\n",
        "<small>A picture of the embeddings at a particular time</small>\n",
        "</p>"
      ]
    },
    {
      "cell_type": "markdown",
      "metadata": {
        "id": "9ik3WnvQbuVF"
      },
      "source": [
        "## Setup"
      ]
    },
    {
      "cell_type": "code",
      "metadata": {
        "id": "8GCdSxrGbtpg"
      },
      "source": [
        "import tensorflow as tf"
      ],
      "execution_count": 1,
      "outputs": []
    },
    {
      "cell_type": "markdown",
      "metadata": {
        "id": "-zA-YO_nbzc-"
      },
      "source": [
        "### Install the package"
      ]
    },
    {
      "cell_type": "code",
      "metadata": {
        "id": "Mm0Pr7Ncap8q",
        "colab": {
          "base_uri": "https://localhost:8080/"
        },
        "outputId": "d1e0f8bc-de9e-4639-e818-03cc6e66f03f"
      },
      "source": [
        "!pip install glom-tf"
      ],
      "execution_count": 2,
      "outputs": [
        {
          "output_type": "stream",
          "text": [
            "Collecting glom-tf\n",
            "  Downloading https://files.pythonhosted.org/packages/eb/21/12764163cf561c0dd3913453533ecbeb53b02dbc5728bb5490d8c87c01e7/glom_tf-0.1.0-py3-none-any.whl\n",
            "Collecting einops>=0.3\n",
            "  Downloading https://files.pythonhosted.org/packages/5d/a0/9935e030634bf60ecd572c775f64ace82ceddf2f504a5fd3902438f07090/einops-0.3.0-py2.py3-none-any.whl\n",
            "Requirement already satisfied: tensorflow>=2.2.0 in /usr/local/lib/python3.7/dist-packages (from glom-tf) (2.4.1)\n",
            "Requirement already satisfied: wrapt~=1.12.1 in /usr/local/lib/python3.7/dist-packages (from tensorflow>=2.2.0->glom-tf) (1.12.1)\n",
            "Requirement already satisfied: gast==0.3.3 in /usr/local/lib/python3.7/dist-packages (from tensorflow>=2.2.0->glom-tf) (0.3.3)\n",
            "Requirement already satisfied: keras-preprocessing~=1.1.2 in /usr/local/lib/python3.7/dist-packages (from tensorflow>=2.2.0->glom-tf) (1.1.2)\n",
            "Requirement already satisfied: typing-extensions~=3.7.4 in /usr/local/lib/python3.7/dist-packages (from tensorflow>=2.2.0->glom-tf) (3.7.4.3)\n",
            "Requirement already satisfied: six~=1.15.0 in /usr/local/lib/python3.7/dist-packages (from tensorflow>=2.2.0->glom-tf) (1.15.0)\n",
            "Requirement already satisfied: opt-einsum~=3.3.0 in /usr/local/lib/python3.7/dist-packages (from tensorflow>=2.2.0->glom-tf) (3.3.0)\n",
            "Requirement already satisfied: h5py~=2.10.0 in /usr/local/lib/python3.7/dist-packages (from tensorflow>=2.2.0->glom-tf) (2.10.0)\n",
            "Requirement already satisfied: grpcio~=1.32.0 in /usr/local/lib/python3.7/dist-packages (from tensorflow>=2.2.0->glom-tf) (1.32.0)\n",
            "Requirement already satisfied: tensorboard~=2.4 in /usr/local/lib/python3.7/dist-packages (from tensorflow>=2.2.0->glom-tf) (2.4.1)\n",
            "Requirement already satisfied: astunparse~=1.6.3 in /usr/local/lib/python3.7/dist-packages (from tensorflow>=2.2.0->glom-tf) (1.6.3)\n",
            "Requirement already satisfied: wheel~=0.35 in /usr/local/lib/python3.7/dist-packages (from tensorflow>=2.2.0->glom-tf) (0.36.2)\n",
            "Requirement already satisfied: absl-py~=0.10 in /usr/local/lib/python3.7/dist-packages (from tensorflow>=2.2.0->glom-tf) (0.10.0)\n",
            "Requirement already satisfied: protobuf>=3.9.2 in /usr/local/lib/python3.7/dist-packages (from tensorflow>=2.2.0->glom-tf) (3.12.4)\n",
            "Requirement already satisfied: termcolor~=1.1.0 in /usr/local/lib/python3.7/dist-packages (from tensorflow>=2.2.0->glom-tf) (1.1.0)\n",
            "Requirement already satisfied: google-pasta~=0.2 in /usr/local/lib/python3.7/dist-packages (from tensorflow>=2.2.0->glom-tf) (0.2.0)\n",
            "Requirement already satisfied: tensorflow-estimator<2.5.0,>=2.4.0 in /usr/local/lib/python3.7/dist-packages (from tensorflow>=2.2.0->glom-tf) (2.4.0)\n",
            "Requirement already satisfied: flatbuffers~=1.12.0 in /usr/local/lib/python3.7/dist-packages (from tensorflow>=2.2.0->glom-tf) (1.12)\n",
            "Requirement already satisfied: numpy~=1.19.2 in /usr/local/lib/python3.7/dist-packages (from tensorflow>=2.2.0->glom-tf) (1.19.5)\n",
            "Requirement already satisfied: werkzeug>=0.11.15 in /usr/local/lib/python3.7/dist-packages (from tensorboard~=2.4->tensorflow>=2.2.0->glom-tf) (1.0.1)\n",
            "Requirement already satisfied: google-auth<2,>=1.6.3 in /usr/local/lib/python3.7/dist-packages (from tensorboard~=2.4->tensorflow>=2.2.0->glom-tf) (1.27.1)\n",
            "Requirement already satisfied: google-auth-oauthlib<0.5,>=0.4.1 in /usr/local/lib/python3.7/dist-packages (from tensorboard~=2.4->tensorflow>=2.2.0->glom-tf) (0.4.3)\n",
            "Requirement already satisfied: setuptools>=41.0.0 in /usr/local/lib/python3.7/dist-packages (from tensorboard~=2.4->tensorflow>=2.2.0->glom-tf) (54.1.2)\n",
            "Requirement already satisfied: markdown>=2.6.8 in /usr/local/lib/python3.7/dist-packages (from tensorboard~=2.4->tensorflow>=2.2.0->glom-tf) (3.3.4)\n",
            "Requirement already satisfied: requests<3,>=2.21.0 in /usr/local/lib/python3.7/dist-packages (from tensorboard~=2.4->tensorflow>=2.2.0->glom-tf) (2.23.0)\n",
            "Requirement already satisfied: tensorboard-plugin-wit>=1.6.0 in /usr/local/lib/python3.7/dist-packages (from tensorboard~=2.4->tensorflow>=2.2.0->glom-tf) (1.8.0)\n",
            "Requirement already satisfied: cachetools<5.0,>=2.0.0 in /usr/local/lib/python3.7/dist-packages (from google-auth<2,>=1.6.3->tensorboard~=2.4->tensorflow>=2.2.0->glom-tf) (4.2.1)\n",
            "Requirement already satisfied: pyasn1-modules>=0.2.1 in /usr/local/lib/python3.7/dist-packages (from google-auth<2,>=1.6.3->tensorboard~=2.4->tensorflow>=2.2.0->glom-tf) (0.2.8)\n",
            "Requirement already satisfied: rsa<5,>=3.1.4; python_version >= \"3.6\" in /usr/local/lib/python3.7/dist-packages (from google-auth<2,>=1.6.3->tensorboard~=2.4->tensorflow>=2.2.0->glom-tf) (4.7.2)\n",
            "Requirement already satisfied: requests-oauthlib>=0.7.0 in /usr/local/lib/python3.7/dist-packages (from google-auth-oauthlib<0.5,>=0.4.1->tensorboard~=2.4->tensorflow>=2.2.0->glom-tf) (1.3.0)\n",
            "Requirement already satisfied: importlib-metadata; python_version < \"3.8\" in /usr/local/lib/python3.7/dist-packages (from markdown>=2.6.8->tensorboard~=2.4->tensorflow>=2.2.0->glom-tf) (3.7.2)\n",
            "Requirement already satisfied: urllib3!=1.25.0,!=1.25.1,<1.26,>=1.21.1 in /usr/local/lib/python3.7/dist-packages (from requests<3,>=2.21.0->tensorboard~=2.4->tensorflow>=2.2.0->glom-tf) (1.24.3)\n",
            "Requirement already satisfied: idna<3,>=2.5 in /usr/local/lib/python3.7/dist-packages (from requests<3,>=2.21.0->tensorboard~=2.4->tensorflow>=2.2.0->glom-tf) (2.10)\n",
            "Requirement already satisfied: certifi>=2017.4.17 in /usr/local/lib/python3.7/dist-packages (from requests<3,>=2.21.0->tensorboard~=2.4->tensorflow>=2.2.0->glom-tf) (2020.12.5)\n",
            "Requirement already satisfied: chardet<4,>=3.0.2 in /usr/local/lib/python3.7/dist-packages (from requests<3,>=2.21.0->tensorboard~=2.4->tensorflow>=2.2.0->glom-tf) (3.0.4)\n",
            "Requirement already satisfied: pyasn1<0.5.0,>=0.4.6 in /usr/local/lib/python3.7/dist-packages (from pyasn1-modules>=0.2.1->google-auth<2,>=1.6.3->tensorboard~=2.4->tensorflow>=2.2.0->glom-tf) (0.4.8)\n",
            "Requirement already satisfied: oauthlib>=3.0.0 in /usr/local/lib/python3.7/dist-packages (from requests-oauthlib>=0.7.0->google-auth-oauthlib<0.5,>=0.4.1->tensorboard~=2.4->tensorflow>=2.2.0->glom-tf) (3.1.0)\n",
            "Requirement already satisfied: zipp>=0.5 in /usr/local/lib/python3.7/dist-packages (from importlib-metadata; python_version < \"3.8\"->markdown>=2.6.8->tensorboard~=2.4->tensorflow>=2.2.0->glom-tf) (3.4.1)\n",
            "Installing collected packages: einops, glom-tf\n",
            "Successfully installed einops-0.3.0 glom-tf-0.1.0\n"
          ],
          "name": "stdout"
        }
      ]
    },
    {
      "cell_type": "markdown",
      "metadata": {
        "id": "uWIxCl2tb5Em"
      },
      "source": [
        "## Create a Glom class"
      ]
    },
    {
      "cell_type": "code",
      "metadata": {
        "id": "7A5vPXCGb2rU"
      },
      "source": [
        "from glomtf import Glom"
      ],
      "execution_count": 3,
      "outputs": []
    },
    {
      "cell_type": "code",
      "metadata": {
        "id": "5Em3BpGwcBgc"
      },
      "source": [
        "model = Glom(dim = 512,\n",
        "             levels = 5,\n",
        "             image_size = 224,\n",
        "             patch_size = 14)"
      ],
      "execution_count": 4,
      "outputs": []
    },
    {
      "cell_type": "code",
      "metadata": {
        "id": "J3n3slaucDIh"
      },
      "source": [
        "img = tf.random.normal([1, 3, 224, 224])\n",
        "all_levels = model(img, iters = 12, return_all = True) # (13, 1, 256, 5, 12)\n",
        "# 13 - time\n",
        "\n",
        "# top level outputs after iteration 6\n",
        "top_level_output = all_levels[7, :, :, -1] # (1, 256, 512)\n",
        "# 1 - batch\n",
        "# 256 - patches\n",
        "# 512 - dimensions"
      ],
      "execution_count": 5,
      "outputs": []
    },
    {
      "cell_type": "code",
      "metadata": {
        "colab": {
          "base_uri": "https://localhost:8080/"
        },
        "id": "_uM9P6AlcFGb",
        "outputId": "0a8f5e6d-f950-4603-fcdc-062ee4f2db47"
      },
      "source": [
        "all_levels.shape"
      ],
      "execution_count": 6,
      "outputs": [
        {
          "output_type": "execute_result",
          "data": {
            "text/plain": [
              "TensorShape([13, 1, 256, 5, 512])"
            ]
          },
          "metadata": {
            "tags": []
          },
          "execution_count": 6
        }
      ]
    },
    {
      "cell_type": "code",
      "metadata": {
        "colab": {
          "base_uri": "https://localhost:8080/"
        },
        "id": "Oyilw1_tcHIh",
        "outputId": "d065e54a-1f79-4c38-f621-8b85b50b17b2"
      },
      "source": [
        "top_level_output.shape"
      ],
      "execution_count": 7,
      "outputs": [
        {
          "output_type": "execute_result",
          "data": {
            "text/plain": [
              "TensorShape([1, 256, 512])"
            ]
          },
          "metadata": {
            "tags": []
          },
          "execution_count": 7
        }
      ]
    }
  ]
}